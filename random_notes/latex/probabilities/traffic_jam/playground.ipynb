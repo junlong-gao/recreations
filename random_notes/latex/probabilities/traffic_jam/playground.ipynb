{
 "cells": [
  {
   "cell_type": "code",
   "execution_count": 4,
   "metadata": {},
   "outputs": [],
   "source": [
    "import numpy as np"
   ]
  },
  {
   "cell_type": "code",
   "execution_count": 56,
   "metadata": {},
   "outputs": [],
   "source": [
    "def count(cars):\n",
    "    min = cars[0] + 1\n",
    "    counter = 0\n",
    "    for i in range(len(cars)):\n",
    "        if cars[i] < min:\n",
    "            counter = counter + 1\n",
    "            min = cars[i]\n",
    "    return counter\n",
    "\n",
    "assert (3 == count([3, 2, 1]))\n",
    "\n",
    "\n",
    "def H(n):\n",
    "    acc = 0.0\n",
    "    ret = []\n",
    "    for i in range(1, n + 1):\n",
    "        acc =  acc + float(1) / float(i)\n",
    "        ret = ret + [acc]\n",
    "    return ret"
   ]
  },
  {
   "cell_type": "code",
   "execution_count": 49,
   "metadata": {},
   "outputs": [],
   "source": [
    "size = 10\n",
    "run = 1000\n",
    "collect = []\n",
    "for s in range(1, size + 1):\n",
    "    total = 0\n",
    "    for i in range(run):\n",
    "       total = total + count(np.random.permutation(s))\n",
    "    \n",
    "    collect = collect + [(float(total) / float(run))]\n",
    "    \n",
    "h = H(size)"
   ]
  },
  {
   "cell_type": "code",
   "execution_count": 59,
   "metadata": {},
   "outputs": [
    {
     "data": {
      "text/plain": [
       "<matplotlib.legend.Legend at 0x7f9e1b523b38>"
      ]
     },
     "execution_count": 59,
     "metadata": {},
     "output_type": "execute_result"
    },
    {
     "data": {
      "image/png": "[encoded data removed]",
      "text/plain": [
       "<matplotlib.figure.Figure at 0x7f9e1b9c0e80>"
      ]
     },
     "metadata": {},
     "output_type": "display_data"
    }
   ],
   "source": [
    "%matplotlib inline\n",
    "from matplotlib import pyplot as plt\n",
    "\n",
    "xs = np.linspace(1, size, size)\n",
    "sim, = plt.plot(xs, collect, label='Simu')\n",
    "g, = plt.plot(xs, h, label='Harmonic')\n",
    "plt.legend(handles=[sim, g])\n"
   ]
  }
 ],
 "metadata": {
  "kernelspec": {
   "display_name": "Python 3",
   "language": "python",
   "name": "python3"
  },
  "language_info": {
   "codemirror_mode": {
    "name": "ipython",
    "version": 3
   },
   "file_extension": ".py",
   "mimetype": "text/x-python",
   "name": "python",
   "nbconvert_exporter": "python",
   "pygments_lexer": "ipython3",
   "version": "3.6.4"
  }
 },
 "nbformat": 4,
 "nbformat_minor": 2
}
